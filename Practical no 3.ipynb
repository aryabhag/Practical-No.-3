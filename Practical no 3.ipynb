{
  "nbformat": 4,
  "nbformat_minor": 0,
  "metadata": {
    "colab": {
      "name": "Untitled0.ipynb",
      "provenance": []
    },
    "kernelspec": {
      "name": "python3",
      "display_name": "Python 3"
    },
    "language_info": {
      "name": "python"
    }
  },
  "cells": [
    {
      "cell_type": "markdown",
      "source": [
        "Aryan B. Jadhav\n",
        "Practical NO:3\n",
        "Different type of Arithmetic operator on numbers\n"
      ],
      "metadata": {
        "id": "AvvRhl0odD4V"
      }
    },
    {
      "cell_type": "code",
      "execution_count": 11,
      "metadata": {
        "colab": {
          "base_uri": "https://localhost:8080/"
        },
        "id": "mndD21UzaAkF",
        "outputId": "cee0a3e0-071e-4f6d-e234-aceb42995318"
      },
      "outputs": [
        {
          "output_type": "stream",
          "name": "stdout",
          "text": [
            "8\n",
            "2\n",
            "15\n",
            "4.0\n",
            "1\n"
          ]
        }
      ],
      "source": [
        "x = 5\n",
        "y = 3\n",
        "\n",
        "print(x + y)\n",
        "#Addition\n",
        "\n",
        "x = 5\n",
        "y = 3\n",
        "\n",
        "print(x - y)\n",
        "#Substraction\n",
        "\n",
        "x = 5\n",
        "y = 3\n",
        "\n",
        "print(x * y)\n",
        "#Multiplication\n",
        "\n",
        "x = 12\n",
        "y = 3\n",
        "\n",
        "print(x / y)\n",
        "#Division\n",
        "\n",
        "x = 5\n",
        "y = 2\n",
        "\n",
        "print(x % y)\n",
        "#Nodulus"
      ]
    },
    {
      "cell_type": "code",
      "source": [
        ""
      ],
      "metadata": {
        "id": "PO4e87CUeFyH"
      },
      "execution_count": null,
      "outputs": []
    }
  ]
}